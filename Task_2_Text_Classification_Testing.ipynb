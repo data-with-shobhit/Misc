{
  "nbformat": 4,
  "nbformat_minor": 0,
  "metadata": {
    "colab": {
      "provenance": [],
      "authorship_tag": "ABX9TyMuPhDLqw93C7XJIJ2uVYSR",
      "include_colab_link": true
    },
    "kernelspec": {
      "name": "python3",
      "display_name": "Python 3"
    },
    "language_info": {
      "name": "python"
    }
  },
  "cells": [
    {
      "cell_type": "markdown",
      "metadata": {
        "id": "view-in-github",
        "colab_type": "text"
      },
      "source": [
        "<a href=\"https://colab.research.google.com/github/data-with-shobhit/Misc/blob/main/Task_2_Text_Classification_Testing.ipynb\" target=\"_parent\"><img src=\"https://colab.research.google.com/assets/colab-badge.svg\" alt=\"Open In Colab\"/></a>"
      ]
    },
    {
      "cell_type": "code",
      "source": [
        "# Loading TF-IDF vectorizer\n",
        "\n",
        "with open(\"tfidf_vectorizer.pkl\", \"rb\") as f:\n",
        "\n",
        "    tfidf = joblib.load(f)\n",
        "\n",
        "# Loading  the trained RandomForest model\n",
        "\n",
        "rf_model = joblib.load(\"RandomForest_model.pkl\")"
      ],
      "metadata": {
        "id": "w_dhuYtPmxVv"
      },
      "execution_count": 9,
      "outputs": []
    },
    {
      "cell_type": "code",
      "source": [
        "labels = {\n",
        "    \"Education\": 0, \"Ecommerce\": 1, \"Technology\": 2, \"Healthcare\": 3,\n",
        "    \"Entertainment\": 4, \"Finance\": 5, \"News\": 6, \"Travel\": 7, \"Sports\": 8, \"Other\": 9\n",
        "}"
      ],
      "metadata": {
        "id": "qtw8jdL-m2vL"
      },
      "execution_count": 10,
      "outputs": []
    },
    {
      "cell_type": "code",
      "source": [
        "test_sentences = [\n",
        "    \"Cryptocurrency adoption is reshaping global financial markets.\",\n",
        "    \"5G technology is enabling faster and more reliable internet connectivity.\",\n",
        "    \"Top 10 destinations to visit this summer for a perfect vacation!\",\n",
        "    \"Real Madrid secures a thrilling last-minute victory in the Champions League final.\",\n",
        "    \"Top 10 must-watch Netflix series to binge this weekend.\",\n",
        "    \"Social media influencers are shaping modern consumer behavior.\",\n",
        "    \"How to start an online business with zero investment?\",\n",
        "    \"Master English fluency with this expert-designed learning program!\",\n",
        "    \"Breaking: Government announces new policies for small business growth.\",\n",
        "    \"Top 5 survival tips for your next hiking adventure in the wild.\"\n",
        "]"
      ],
      "metadata": {
        "id": "u2ghOIq_nCOh"
      },
      "execution_count": 31,
      "outputs": []
    },
    {
      "cell_type": "code",
      "source": [
        "\n",
        "test_tfidf = tfidf.transform(test_sentences)\n",
        "\n",
        "predictions = rf_model.predict(test_tfidf)\n"
      ],
      "metadata": {
        "id": "Y_ksH3T3nGRS"
      },
      "execution_count": 32,
      "outputs": []
    },
    {
      "cell_type": "code",
      "source": [
        "# Results\n",
        "category_names = {v: k for k, v in labels.items()}\n",
        "\n",
        "for sentence, category in zip(test_sentences, predictions):\n",
        "    print(f\"Text: {sentence} -> Predicted Category: {category_names.get(category, 'Unknown')}\")\n",
        "    print()"
      ],
      "metadata": {
        "colab": {
          "base_uri": "https://localhost:8080/"
        },
        "id": "pOq9XkaxnNJS",
        "outputId": "aa975b3b-d971-4e75-d295-3ffd3c7db660"
      },
      "execution_count": 33,
      "outputs": [
        {
          "output_type": "stream",
          "name": "stdout",
          "text": [
            "Text: Cryptocurrency adoption is reshaping global financial markets. -> Predicted Category: Finance\n",
            "\n",
            "Text: 5G technology is enabling faster and more reliable internet connectivity. -> Predicted Category: Technology\n",
            "\n",
            "Text: Top 10 destinations to visit this summer for a perfect vacation! -> Predicted Category: Travel\n",
            "\n",
            "Text: Real Madrid secures a thrilling last-minute victory in the Champions League final. -> Predicted Category: Sports\n",
            "\n",
            "Text: Top 10 must-watch Netflix series to binge this weekend. -> Predicted Category: Entertainment\n",
            "\n",
            "Text: Social media influencers are shaping modern consumer behavior. -> Predicted Category: Other\n",
            "\n",
            "Text: How to start an online business with zero investment? -> Predicted Category: Ecommerce\n",
            "\n",
            "Text: Master English fluency with this expert-designed learning program! -> Predicted Category: Education\n",
            "\n",
            "Text: Breaking: Government announces new policies for small business growth. -> Predicted Category: News\n",
            "\n",
            "Text: Top 5 survival tips for your next hiking adventure in the wild. -> Predicted Category: Travel\n",
            "\n"
          ]
        }
      ]
    }
  ]
}